{
 "cells": [
  {
   "cell_type": "code",
   "execution_count": 1,
   "id": "3d347622",
   "metadata": {},
   "outputs": [],
   "source": [
    "import pandas as pd\n",
    "import csv\n",
    "import matplotlib.pyplot as plt\n",
    "import numpy as np"
   ]
  },
  {
   "cell_type": "code",
   "execution_count": 2,
   "id": "6820cb81",
   "metadata": {},
   "outputs": [],
   "source": [
    "#reads csvs into dataframes\n",
    "\n",
    "S20 = pd.read_csv('2019-2020 NBA Player Stats.csv', usecols= [\"FULL NAME\",\"MPG\",\"GP\", \"PPG\", \"APG\",\"RPG\",\"3PA\",\"DRTG\"])\n",
    "S21 = pd.read_csv('2020-2021 NBA Player Stats.csv', usecols= [\"FULL NAME\",\"MPG\", \"GP\",\"PPG\", \"APG\",\"RPG\",\"3PA\",\"DRTG\"])\n",
    "S22 = pd.read_csv('2021-2022 NBA Player Stats.csv', usecols= [\"FULL NAME\",\"MPG\",\"GP\", \"PPG\", \"APG\",\"RPG\",\"3PA\",\"DRTG\"])\n",
    "S23 = pd.read_csv('2022-2023 NBA Player Stats.csv', usecols= [\"NAME\",\"MPG\", \"GP\",\"PPG\", \"APG\",\"RPG\",\"3PA\",\"DRtg\"])"
   ]
  },
  {
   "cell_type": "code",
   "execution_count": 3,
   "id": "53bd7538",
   "metadata": {},
   "outputs": [],
   "source": [
    "#Creates Lists of player names (L20-L23)\n",
    "#LInc are players included in our dataset\n",
    "\n",
    "L20N = []\n",
    "L21N = []\n",
    "L22N = []\n",
    "L23N = []\n",
    "LIncN = []\n",
    "\n",
    "L20M = []\n",
    "L21M = []\n",
    "L22M = []\n",
    "L23M = []\n",
    "LIncM20 = []\n",
    "LIncM = []\n",
    "\n",
    "L20G = []\n",
    "L21G = []\n",
    "L22G = []\n",
    "L23G = []\n",
    "LIncG20 = []\n",
    "LIncG = []\n",
    "\n",
    "L20P = []\n",
    "L21P = []\n",
    "L22P = []\n",
    "L23P = []\n",
    "LIncP20 = []\n",
    "LIncP = []\n",
    "\n",
    "L20A = []\n",
    "L21A = []\n",
    "L22A = []\n",
    "L23A = []\n",
    "LIncA20 = []\n",
    "LIncA = []\n",
    "\n",
    "L20R = []\n",
    "L21R = []\n",
    "L22R = []\n",
    "L23R = []\n",
    "LIncR20 = []\n",
    "LIncR = []\n",
    "\n",
    "L203 = []\n",
    "L213 = []\n",
    "L223 = []\n",
    "L233 = []\n",
    "LInc320 = []\n",
    "LInc3 = []\n",
    "\n",
    "L20D = []\n",
    "L21D = []\n",
    "L22D = []\n",
    "L23D = []\n",
    "LIncD20 = []\n",
    "LIncD = []\n",
    "\n",
    "#reads dataframes into lists\n",
    "for ind in S20.index:\n",
    "    L20N.append(S20[\"FULL NAME\"][ind])\n",
    "    L20M.append(S20[\"MPG\"][ind])\n",
    "    L20G.append(S20[\"GP\"][ind])\n",
    "    L20P.append(S20[\"PPG\"][ind])\n",
    "    L20A.append(S20[\"APG\"][ind])\n",
    "    L20R.append(S20[\"RPG\"][ind])\n",
    "    L203.append(S20[\"3PA\"][ind])\n",
    "    L20D.append(S20[\"DRTG\"][ind])\n",
    "for ind in S21.index:\n",
    "    L21N.append(S21[\"FULL NAME\"][ind])\n",
    "    L21M.append(S21[\"MPG\"][ind])\n",
    "    L21G.append(S21[\"GP\"][ind])\n",
    "    L21P.append(S21[\"PPG\"][ind])\n",
    "    L21A.append(S21[\"APG\"][ind])\n",
    "    L21R.append(S21[\"RPG\"][ind])\n",
    "    L213.append(S21[\"3PA\"][ind])\n",
    "    L21D.append(S21[\"DRTG\"][ind])\n",
    "for ind in S22.index:\n",
    "    L22N.append(S22[\"FULL NAME\"][ind])\n",
    "    L22M.append(S22[\"MPG\"][ind])\n",
    "    L22G.append(S22[\"GP\"][ind])\n",
    "    L22P.append(S22[\"PPG\"][ind])\n",
    "    L22A.append(S22[\"APG\"][ind])\n",
    "    L22R.append(S22[\"RPG\"][ind])\n",
    "    L223.append(S22[\"3PA\"][ind])\n",
    "    L22D.append(S22[\"DRTG\"][ind])\n",
    "for ind in S23.index:\n",
    "    L23N.append(S23[\"NAME\"][ind])\n",
    "    L23M.append(S23[\"MPG\"][ind])\n",
    "    L23G.append(S23[\"GP\"][ind])\n",
    "    L23P.append(S23[\"PPG\"][ind])\n",
    "    L23A.append(S23[\"APG\"][ind])\n",
    "    L23R.append(S23[\"RPG\"][ind])\n",
    "    L233.append(S23[\"3PA\"][ind])\n",
    "    L23D.append(S23[\"DRtg\"][ind])"
   ]
  },
  {
   "cell_type": "code",
   "execution_count": 4,
   "id": "1591ea2c",
   "metadata": {},
   "outputs": [],
   "source": [
    "#Chooses players to include\n",
    "for name in L20N:\n",
    "    if name in L21N:\n",
    "        LIncN.append(name)\n",
    "    elif name in L22N:\n",
    "        LIncN.append(name)\n",
    "    elif name in L23N:\n",
    "        LIncN.append(name)\n",
    "#print (LIncN)\n",
    "#print(len(LIncN))\n",
    "\n",
    "#appends data from included players into lists for included data\n",
    "for name in LIncN:\n",
    "    numApp = 0\n",
    "    mpg = 0\n",
    "    gp = 0\n",
    "    ppg = 0\n",
    "    apg = 0\n",
    "    rpg = 0\n",
    "    pa3 = 0\n",
    "    DRtg = 0\n",
    "    LIncM20.append(L20M[L20N.index(name)])\n",
    "    LIncG20.append(L20G[L20N.index(name)])\n",
    "    LIncP20.append(L20P[L20N.index(name)])\n",
    "    LIncA20.append(L20A[L20N.index(name)])\n",
    "    LIncR20.append(L20R[L20N.index(name)])\n",
    "    LInc320.append(L203[L20N.index(name)]/L20G[L20N.index(name)])\n",
    "    LIncD20.append(L20D[L20N.index(name)])\n",
    "    if name in L21N:\n",
    "        mpg = mpg + L21M[L21N.index(name)]\n",
    "        gp = gp + L21G[L21N.index(name)]\n",
    "        ppg = ppg + L21P[L21N.index(name)]\n",
    "        apg = apg + L21A[L21N.index(name)]\n",
    "        rpg = rpg + L21R[L21N.index(name)]\n",
    "        pa3 = pa3 + L213[L21N.index(name)]\n",
    "        DRtg = DRtg = L21D[L21N.index(name)]\n",
    "        numApp = numApp+1\n",
    "    if name in L22N:\n",
    "        mpg = mpg + L22M[L22N.index(name)]\n",
    "        gp = gp + L22G[L22N.index(name)]\n",
    "        ppg = ppg + L22P[L22N.index(name)]\n",
    "        apg = apg + L22A[L22N.index(name)]\n",
    "        rpg = rpg + L22R[L22N.index(name)]\n",
    "        pa3 = pa3 + L223[L22N.index(name)]\n",
    "        DRtg = DRtg = L22D[L22N.index(name)]\n",
    "        numApp = numApp+1\n",
    "    if name in L23N:\n",
    "        mpg = mpg + L23M[L23N.index(name)]\n",
    "        gp = gp + L23G[L23N.index(name)]\n",
    "        ppg = ppg + L23P[L23N.index(name)]\n",
    "        apg = apg + L23A[L23N.index(name)]\n",
    "        rpg = rpg + L23R[L23N.index(name)]\n",
    "        pa3 = pa3 + L233[L23N.index(name)]\n",
    "        DRtg = DRtg = L23D[L23N.index(name)]\n",
    "        numApp = numApp+1\n",
    "    LIncM.append(mpg/numApp)\n",
    "    LIncG.append(gp/numApp)\n",
    "    LIncP.append(ppg/numApp)\n",
    "    LIncA.append(apg/numApp)\n",
    "    LIncR.append(rpg/numApp)\n",
    "    LInc3.append(pa3/gp)\n",
    "    LIncD.append(DRtg/numApp)"
   ]
  },
  {
   "cell_type": "code",
   "execution_count": 5,
   "id": "91396b38",
   "metadata": {},
   "outputs": [],
   "source": [
    "def checkSig(sampleDf, toCalc = \"Difference\"):\n",
    "    \"\"\"With sample_data as a Dataframe and column to calculate significance\"\"\"\n",
    "    sample_data = list(sampleDf[toCalc])\n",
    "    null_mean = 0\n",
    "    sample_mean = np.mean(sample_data)\n",
    "    sample_std = np.std(sample_data, ddof=1)\n",
    "    test_statistic = (sample_mean - null_mean) / (sample_std / np.sqrt(len(sample_data)))\n",
    "    boolVal = (abs(test_statistic) > 1.96)\n",
    "    return(boolVal)"
   ]
  },
  {
   "cell_type": "code",
   "execution_count": 6,
   "id": "a895603f",
   "metadata": {},
   "outputs": [],
   "source": [
    "def findDiff(anyL, anyL20):\n",
    "    \"\"\"Creates the difference given two sets of data (normal-covid)\"\"\"\n",
    "    diffSmth = []\n",
    "    for ind in range(len(anyL)):\n",
    "        diffSmth.append(anyL[ind]-anyL20[ind])\n",
    "    anyDict = {\"Covid\": anyL20, \"Normal\": anyL, \"Difference\": diffSmth}\n",
    "    anyDf = pd.DataFrame(anyDict)\n",
    "    return(anyDf)"
   ]
  },
  {
   "cell_type": "code",
   "execution_count": 7,
   "id": "6ce064bf",
   "metadata": {},
   "outputs": [],
   "source": [
    "def makeHist(sampleDf, typeStat, toCalc = \"Difference\"):\n",
    "    #With sample_data as a Dataframe and column to calculate\n",
    "    sample_data = list(sampleDf[toCalc])\n",
    "    plt.hist(sample_data, bins=20, alpha=0.5, histtype='stepfilled', color='red', edgecolor='none')\n",
    "    titleStr = \"Difference in \" + typeStat + \" (Normal - Bubble)\"\n",
    "    xLab = typeStat + \" Differential\"\n",
    "    plt.title(titleStr)\n",
    "    plt.xlabel(xLab)\n",
    "    plt.ylabel(\"Number of players\")"
   ]
  },
  {
   "cell_type": "code",
   "execution_count": 8,
   "id": "4fd43f36",
   "metadata": {},
   "outputs": [],
   "source": [
    "def scatterPlot(xVal, yVal, xName, yName, year):\n",
    "    X = np.array(xVal)\n",
    "    y = np.array(yVal)\n",
    "\n",
    "    coefficients = np.polyfit(X, y, 1)\n",
    "\n",
    "    slope = coefficients[0]\n",
    "\n",
    "    print(\"Slope:\", slope)\n",
    "\n",
    "    regression_line = np.poly1d(coefficients)\n",
    "    x_range = np.linspace(X.min(), X.max(), 100)\n",
    "    y_range = regression_line(x_range)\n",
    "\n",
    "    \n",
    "    plt.scatter(X, y, label='Data Points')\n",
    "    plt.plot(x_range, y_range, color='r', label='Regression Line')\n",
    "    plt.xlabel(xName)\n",
    "    plt.ylabel(yName)\n",
    "    titleStr = \"Linear Regression of \" + year\n",
    "    plt.legend()\n",
    "    plt.grid(True)\n",
    "    plt.show()"
   ]
  },
  {
   "cell_type": "code",
   "execution_count": 9,
   "id": "a32a3a12",
   "metadata": {},
   "outputs": [],
   "source": [
    "def findPlayer(dfAny, colName, ascendingQ, numPlayer = 5):\n",
    "    \"\"\"dfAny: any dataframe with difference can be added: must be processed by findDiff()\n",
    "    colName is the stat to be sorted ie. covid, normal, difference\n",
    "    ascendingQ: true if looking for players who were better in Covid and false if worse in Covid\n",
    "    numPlayer is the number of players listed\"\"\"\n",
    "    dfAnyN = dfAny.copy()\n",
    "    dfAnyN[\"Name\"] = LIncN\n",
    "    sortedAnyDf = dfAnyN.sort_values(by = colName, ascending = ascendingQ)\n",
    "    findName = list(sortedAnyDf[\"Name\"])\n",
    "    print(findName[0:numPlayer])\n",
    "    #print(sortedAnyDf)"
   ]
  },
  {
   "cell_type": "code",
   "execution_count": 10,
   "id": "b54ff7d0",
   "metadata": {},
   "outputs": [],
   "source": [
    "def findConsis(dfAny, consisQ, numPlayer = 5):\n",
    "    \"\"\"Used to find most consistant players\n",
    "    dfAny: any dataframe with difference can be added: must be processed by findDiff()\n",
    "    consisQ is asking if want to sort by consistancy or inconsistancy.: true: consistant, false: inconsistant\n",
    "    numPlayer is the number of players listed\"\"\"\n",
    "    \n",
    "    statsL = dfAny[\"Difference\"]\n",
    "    absStatsL = []\n",
    "    for ind in range(len(statsL)):\n",
    "        absStatsL.append(abs(statsL[ind]))\n",
    "    dfAnyN = dfAny.copy()\n",
    "    dfAnyN[\"Name\"] = LIncN\n",
    "    dfAnyN[\"Points Squared\"] = absStatsL\n",
    "    sortedAnyDf = dfAnyN.sort_values(by = \"Points Squared\", ascending = consisQ)\n",
    "    findName = list(sortedAnyDf[\"Name\"])\n",
    "    print(findName[0:numPlayer])"
   ]
  },
  {
   "cell_type": "code",
   "execution_count": 11,
   "id": "06a89a99",
   "metadata": {},
   "outputs": [
    {
     "name": "stdout",
     "output_type": "stream",
     "text": [
      "True\n"
     ]
    },
    {
     "data": {
      "image/png": "[encoded data removed]",
      "text/plain": [
       "<Figure size 432x288 with 1 Axes>"
      ]
     },
     "metadata": {
      "needs_background": "light"
     },
     "output_type": "display_data"
    }
   ],
   "source": [
    "dfPts = findDiff(LIncP, LIncP20)\n",
    "#dfPts.describe(include = \"all\")\n",
    "print(checkSig(dfPts, \"Difference\"))\n",
    "makeHist(dfPts, \"Points\")"
   ]
  },
  {
   "cell_type": "code",
   "execution_count": 12,
   "id": "5ac14090",
   "metadata": {},
   "outputs": [
    {
     "name": "stdout",
     "output_type": "stream",
     "text": [
      "True\n"
     ]
    }
   ],
   "source": [
    "dfRbs = findDiff(LIncR, LIncR20)\n",
    "#dfRbs.describe(include = \"all\")\n",
    "print(checkSig(dfRbs, \"Difference\"))\n",
    "#makeHist(dfRbs, \"Rebounds\")"
   ]
  },
  {
   "cell_type": "code",
   "execution_count": 13,
   "id": "4fde359c",
   "metadata": {},
   "outputs": [],
   "source": [
    "#scatterPlot(LIncM20, LIncP20, \"MPG\", \"PPG\", \"Bubble\")\n",
    "#scatterPlot(LIncM, LIncP, \"MPG\", \"PPG\", \"Normal\")\n",
    "#scatterPlot(LIncM20, LIncR20, \"MPG\", \"RPG\", \"Bubble\")\n",
    "#scatterPlot(LIncM, LIncR, \"MPG\", \"RPG\", \"Normal\")\n",
    "#scatterPlot(LIncP20, LIncD20, \"PPG\", \"DEF\", \"Bubble\")\n",
    "#scatterPlot(LIncP, LIncD, \"PPG\", \"DEF\", \"Normal\")"
   ]
  },
  {
   "cell_type": "code",
   "execution_count": 19,
   "id": "034a01cb",
   "metadata": {},
   "outputs": [
    {
     "name": "stdout",
     "output_type": "stream",
     "text": [
      "['T.J. Warren', 'Timothe Luwawu-Cabarrot', 'Terrence Ross', 'Garrett Temple', 'Josh Richardson']\n",
      "['Chris Boucher', 'Damian Lillard', 'Terance Mann', 'Romeo Langford', 'Gabe Vincent']\n",
      "['Nikola Jokic', 'Giannis Antetokounmpo', 'Rudy Gobert', 'Nikola Vucevic', 'Anthony Davis']\n"
     ]
    }
   ],
   "source": [
    "#findPlayer(dfPts, \"Difference\", True)\n",
    "#findPlayer(dfPts, \"Difference\", False)\n",
    "#findPlayer(dfPts, \"Normal\", False)\n",
    "#findPlayer(dfPts, \"Covid\", False)\n",
    "#findPlayer(dfRbs, \"Normal\", False)\n",
    "#findPlayer(dfRbs, \"Covid\", False)"
   ]
  },
  {
   "cell_type": "code",
   "execution_count": 15,
   "id": "1f1c4d5b",
   "metadata": {},
   "outputs": [],
   "source": [
    "#findConsis(dfPts, False)\n",
    "#findConsis(dfPts, True)"
   ]
  },
  {
   "cell_type": "code",
   "execution_count": 20,
   "id": "20e851a4",
   "metadata": {},
   "outputs": [
    {
     "name": "stdout",
     "output_type": "stream",
     "text": [
      "Slope: 0.2145564650814471\n"
     ]
    },
    {
     "data": {
      "image/png": "[encoded data removed]",
      "text/plain": [
       "<Figure size 432x288 with 1 Axes>"
      ]
     },
     "metadata": {
      "needs_background": "light"
     },
     "output_type": "display_data"
    },
    {
     "name": "stdout",
     "output_type": "stream",
     "text": [
      "Slope: 0.14274527169669624\n"
     ]
    },
    {
     "data": {
      "image/png": "[encoded data removed]",
      "text/plain": [
       "<Figure size 432x288 with 1 Axes>"
      ]
     },
     "metadata": {
      "needs_background": "light"
     },
     "output_type": "display_data"
    }
   ],
   "source": [
    "scatterPlot(LIncP, LIncG, \"PPG\", \"Games\", \"Normal\")\n",
    "scatterPlot(LIncP20, LIncG20, \"PPG\", \"Games\",\"COVID\")"
   ]
  },
  {
   "cell_type": "code",
   "execution_count": null,
   "id": "748517af",
   "metadata": {},
   "outputs": [],
   "source": []
  }
 ],
 "metadata": {
  "kernelspec": {
   "display_name": "Python 3",
   "language": "python",
   "name": "python3"
  },
  "language_info": {
   "codemirror_mode": {
    "name": "ipython",
    "version": 3
   },
   "file_extension": ".py",
   "mimetype": "text/x-python",
   "name": "python",
   "nbconvert_exporter": "python",
   "pygments_lexer": "ipython3",
   "version": "3.6.8"
  }
 },
 "nbformat": 4,
 "nbformat_minor": 5
}
